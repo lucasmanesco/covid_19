{
  "nbformat": 4,
  "nbformat_minor": 0,
  "metadata": {
    "colab": {
      "provenance": [],
      "collapsed_sections": [],
      "include_colab_link": true
    },
    "kernelspec": {
      "name": "python3",
      "display_name": "Python 3"
    }
  },
  "cells": [
    {
      "cell_type": "markdown",
      "metadata": {
        "id": "view-in-github",
        "colab_type": "text"
      },
      "source": [
        "<a href=\"https://colab.research.google.com/github/lucasmanesco/covid_19/blob/main/Panorama_do_COVID_19_no_Brasil.ipynb\" target=\"_parent\"><img src=\"https://colab.research.google.com/assets/colab-badge.svg\" alt=\"Open In Colab\"/></a>"
      ]
    },
    {
      "cell_type": "markdown",
      "metadata": {
        "id": "kLI0gJtzDGuQ"
      },
      "source": [
        "# Panorama do COVID-19 no Brasil\n",
        "\n",
        "COVID-19 é uma doença infecciosa causada por um recém descoberto coronavírus (SARS-CoV-2). O vírus foi descoberto em janeiro de 2020, após um surto de pneumonia na cidade de Wuhan, na China.\n",
        "\n",
        "Transmitido principalmente por meio de gotículas provenientes de tosses ou espirros de pessoas infectadas, a gravidade dos sintomas varia muito de pessoa para pessoa.\n",
        "\n",
        "Dentre os principais sintomas, os infectados podem apresentar tosse, dificuldade para respirar, dores de garganta, febre e outras manifestações clínicas. Há ainda os assintomáticos, que, apesar de não sentirem os sintomas, são potenciais transmissores da doença e também importantes para os levantamentos de dados.\n",
        "\n",
        "<center><img alt=\"Colaboratory logo\" width=\"50%\" src=\"https://img.freepik.com/free-photo/doctor-analyzing-blood-samples-with-microscope_23-2148958410.jpg?w=1060&t=st=1665157970~exp=1665158570~hmac=ea6a1ac8ebf9d1cf27eb1944dcb10e7acf74e04cf6621b0fb80404b982d0041e\"></center>\n",
        "\n",
        "No mundo todo, até a data da realização desse estudo, são mais de 620 milhões de infectados com uma taxa de letalidade de aproximadamente 1%.\n",
        "\n",
        "Com o objetivo de elevar a consciência situacional a respeito do COVID-19 no Brasil, irei realizar uma análise sobre os dados públicos da doença."
      ]
    },
    {
      "cell_type": "markdown",
      "metadata": {
        "id": "0zxQHhIUDF_2"
      },
      "source": [
        "## Obtenção dos Dados\n",
        "\n",
        "Os dados utilizados nesse estudo foram coletados a partir do portal Our World in Data, o qual é atualizado diariamente:\n",
        "\n",
        "*Hannah Ritchie, Edouard Mathieu, Lucas Rodés-Guirao, Cameron Appel, Charlie Giattino, Esteban Ortiz-Ospina, Joe Hasell, Bobbie Macdonald, Diana Beltekian and Max Roser (2020) - \"Coronavirus Pandemic (COVID-19)\". Published online at OurWorldInData.org. Retrieved from: https://ourworldindata.org/coronavirus*\n",
        "\n",
        "A atualização das informações de cada município brasileiro é muito dinâmica e complexa, levando em consideração os serviços de saúde tem suas particularidades de infraestrutura e organização em cada local. Portanto é possível que haja divergências devido à decorrência de erros e/ou atrasos no repasse de informações. \n",
        "\n",
        "### Dicionário de Variáveis\n",
        "* *Construa um dicionário de variáveis.*\n",
        "    * *A descrição do nome de cada coluna pode ser encontrada [neste link](https://github.com/owid/covid-19-data/blob/master/public/data/owid-covid-data-codebook.md).*"
      ]
    },
    {
      "cell_type": "markdown",
      "source": [
        "### Importação dos Dados\n",
        "Para iniciar nosso projeto, vamos importar as bibliotecas necessárias e conectar ao Drive para importação do DataSet.\n",
        "\n",
        "Nessa análise usaremos as bibliotecas Pandas, MatplotLib e ..."
      ],
      "metadata": {
        "id": "hSyRGzjXvKFG"
      }
    },
    {
      "cell_type": "code",
      "metadata": {
        "id": "lOtEJxe0DMEb"
      },
      "source": [
        "# importar as bibliotecas necessárias\n",
        "import pandas as pd\n",
        "import matplotlib.pyplot as plt\n",
        "from google.colab import drive"
      ],
      "execution_count": null,
      "outputs": []
    },
    {
      "cell_type": "code",
      "source": [
        "# montar o drive\n",
        "drive.mount('/content/drive')"
      ],
      "metadata": {
        "colab": {
          "base_uri": "https://localhost:8080/"
        },
        "id": "4WZ8ABw0IISl",
        "outputId": "e4867873-329b-445b-87ef-7d2d9e92ec61"
      },
      "execution_count": null,
      "outputs": [
        {
          "output_type": "stream",
          "name": "stdout",
          "text": [
            "Mounted at /content/drive\n"
          ]
        }
      ]
    },
    {
      "cell_type": "code",
      "source": [
        "# importar o dataset COVID-19 para um DataFrame\n",
        "data_path = '/content/drive/MyDrive/Colab Notebooks/Projetos/COV-19/owid-covid-data.csv'\n",
        "df = pd.read_csv(data_path, sep=',')"
      ],
      "metadata": {
        "id": "EucvB8riHrC-"
      },
      "execution_count": null,
      "outputs": []
    },
    {
      "cell_type": "markdown",
      "metadata": {
        "id": "02xmIU3Ps0JD"
      },
      "source": [
        "## Análise Exploratória Inicial - Visualizando Dataframe e Estrutura\n",
        "\n",
        "Antes de qualquer análise vamos visualizar a estrutura do dataframe, os tipos de dados, dimensões e começar a entender o material que temos em mãos.\n"
      ]
    },
    {
      "cell_type": "code",
      "source": [
        "# visualizando 5 primeiras entradas\n",
        "df.head()"
      ],
      "metadata": {
        "colab": {
          "base_uri": "https://localhost:8080/",
          "height": 386
        },
        "id": "vPuKwvT_IWaz",
        "outputId": "8f4c2213-4b2f-491e-9d44-1e7feb8f3604"
      },
      "execution_count": null,
      "outputs": [
        {
          "output_type": "execute_result",
          "data": {
            "text/plain": [
              "  iso_code continent     location        date  total_cases  new_cases  \\\n",
              "0      AFG      Asia  Afghanistan  2020-02-24          5.0        5.0   \n",
              "1      AFG      Asia  Afghanistan  2020-02-25          5.0        0.0   \n",
              "2      AFG      Asia  Afghanistan  2020-02-26          5.0        0.0   \n",
              "3      AFG      Asia  Afghanistan  2020-02-27          5.0        0.0   \n",
              "4      AFG      Asia  Afghanistan  2020-02-28          5.0        0.0   \n",
              "\n",
              "   new_cases_smoothed  total_deaths  new_deaths  new_deaths_smoothed  ...  \\\n",
              "0                 NaN           NaN         NaN                  NaN  ...   \n",
              "1                 NaN           NaN         NaN                  NaN  ...   \n",
              "2                 NaN           NaN         NaN                  NaN  ...   \n",
              "3                 NaN           NaN         NaN                  NaN  ...   \n",
              "4                 NaN           NaN         NaN                  NaN  ...   \n",
              "\n",
              "   female_smokers  male_smokers  handwashing_facilities  \\\n",
              "0             NaN           NaN                  37.746   \n",
              "1             NaN           NaN                  37.746   \n",
              "2             NaN           NaN                  37.746   \n",
              "3             NaN           NaN                  37.746   \n",
              "4             NaN           NaN                  37.746   \n",
              "\n",
              "   hospital_beds_per_thousand  life_expectancy  human_development_index  \\\n",
              "0                         0.5            64.83                    0.511   \n",
              "1                         0.5            64.83                    0.511   \n",
              "2                         0.5            64.83                    0.511   \n",
              "3                         0.5            64.83                    0.511   \n",
              "4                         0.5            64.83                    0.511   \n",
              "\n",
              "   excess_mortality_cumulative_absolute  excess_mortality_cumulative  \\\n",
              "0                                   NaN                          NaN   \n",
              "1                                   NaN                          NaN   \n",
              "2                                   NaN                          NaN   \n",
              "3                                   NaN                          NaN   \n",
              "4                                   NaN                          NaN   \n",
              "\n",
              "   excess_mortality  excess_mortality_cumulative_per_million  \n",
              "0               NaN                                      NaN  \n",
              "1               NaN                                      NaN  \n",
              "2               NaN                                      NaN  \n",
              "3               NaN                                      NaN  \n",
              "4               NaN                                      NaN  \n",
              "\n",
              "[5 rows x 67 columns]"
            ],
            "text/html": [
              "\n",
              "  <div id=\"df-73c370c1-9e7d-461e-ab2a-a7e1122d5b63\">\n",
              "    <div class=\"colab-df-container\">\n",
              "      <div>\n",
              "<style scoped>\n",
              "    .dataframe tbody tr th:only-of-type {\n",
              "        vertical-align: middle;\n",
              "    }\n",
              "\n",
              "    .dataframe tbody tr th {\n",
              "        vertical-align: top;\n",
              "    }\n",
              "\n",
              "    .dataframe thead th {\n",
              "        text-align: right;\n",
              "    }\n",
              "</style>\n",
              "<table border=\"1\" class=\"dataframe\">\n",
              "  <thead>\n",
              "    <tr style=\"text-align: right;\">\n",
              "      <th></th>\n",
              "      <th>iso_code</th>\n",
              "      <th>continent</th>\n",
              "      <th>location</th>\n",
              "      <th>date</th>\n",
              "      <th>total_cases</th>\n",
              "      <th>new_cases</th>\n",
              "      <th>new_cases_smoothed</th>\n",
              "      <th>total_deaths</th>\n",
              "      <th>new_deaths</th>\n",
              "      <th>new_deaths_smoothed</th>\n",
              "      <th>...</th>\n",
              "      <th>female_smokers</th>\n",
              "      <th>male_smokers</th>\n",
              "      <th>handwashing_facilities</th>\n",
              "      <th>hospital_beds_per_thousand</th>\n",
              "      <th>life_expectancy</th>\n",
              "      <th>human_development_index</th>\n",
              "      <th>excess_mortality_cumulative_absolute</th>\n",
              "      <th>excess_mortality_cumulative</th>\n",
              "      <th>excess_mortality</th>\n",
              "      <th>excess_mortality_cumulative_per_million</th>\n",
              "    </tr>\n",
              "  </thead>\n",
              "  <tbody>\n",
              "    <tr>\n",
              "      <th>0</th>\n",
              "      <td>AFG</td>\n",
              "      <td>Asia</td>\n",
              "      <td>Afghanistan</td>\n",
              "      <td>2020-02-24</td>\n",
              "      <td>5.0</td>\n",
              "      <td>5.0</td>\n",
              "      <td>NaN</td>\n",
              "      <td>NaN</td>\n",
              "      <td>NaN</td>\n",
              "      <td>NaN</td>\n",
              "      <td>...</td>\n",
              "      <td>NaN</td>\n",
              "      <td>NaN</td>\n",
              "      <td>37.746</td>\n",
              "      <td>0.5</td>\n",
              "      <td>64.83</td>\n",
              "      <td>0.511</td>\n",
              "      <td>NaN</td>\n",
              "      <td>NaN</td>\n",
              "      <td>NaN</td>\n",
              "      <td>NaN</td>\n",
              "    </tr>\n",
              "    <tr>\n",
              "      <th>1</th>\n",
              "      <td>AFG</td>\n",
              "      <td>Asia</td>\n",
              "      <td>Afghanistan</td>\n",
              "      <td>2020-02-25</td>\n",
              "      <td>5.0</td>\n",
              "      <td>0.0</td>\n",
              "      <td>NaN</td>\n",
              "      <td>NaN</td>\n",
              "      <td>NaN</td>\n",
              "      <td>NaN</td>\n",
              "      <td>...</td>\n",
              "      <td>NaN</td>\n",
              "      <td>NaN</td>\n",
              "      <td>37.746</td>\n",
              "      <td>0.5</td>\n",
              "      <td>64.83</td>\n",
              "      <td>0.511</td>\n",
              "      <td>NaN</td>\n",
              "      <td>NaN</td>\n",
              "      <td>NaN</td>\n",
              "      <td>NaN</td>\n",
              "    </tr>\n",
              "    <tr>\n",
              "      <th>2</th>\n",
              "      <td>AFG</td>\n",
              "      <td>Asia</td>\n",
              "      <td>Afghanistan</td>\n",
              "      <td>2020-02-26</td>\n",
              "      <td>5.0</td>\n",
              "      <td>0.0</td>\n",
              "      <td>NaN</td>\n",
              "      <td>NaN</td>\n",
              "      <td>NaN</td>\n",
              "      <td>NaN</td>\n",
              "      <td>...</td>\n",
              "      <td>NaN</td>\n",
              "      <td>NaN</td>\n",
              "      <td>37.746</td>\n",
              "      <td>0.5</td>\n",
              "      <td>64.83</td>\n",
              "      <td>0.511</td>\n",
              "      <td>NaN</td>\n",
              "      <td>NaN</td>\n",
              "      <td>NaN</td>\n",
              "      <td>NaN</td>\n",
              "    </tr>\n",
              "    <tr>\n",
              "      <th>3</th>\n",
              "      <td>AFG</td>\n",
              "      <td>Asia</td>\n",
              "      <td>Afghanistan</td>\n",
              "      <td>2020-02-27</td>\n",
              "      <td>5.0</td>\n",
              "      <td>0.0</td>\n",
              "      <td>NaN</td>\n",
              "      <td>NaN</td>\n",
              "      <td>NaN</td>\n",
              "      <td>NaN</td>\n",
              "      <td>...</td>\n",
              "      <td>NaN</td>\n",
              "      <td>NaN</td>\n",
              "      <td>37.746</td>\n",
              "      <td>0.5</td>\n",
              "      <td>64.83</td>\n",
              "      <td>0.511</td>\n",
              "      <td>NaN</td>\n",
              "      <td>NaN</td>\n",
              "      <td>NaN</td>\n",
              "      <td>NaN</td>\n",
              "    </tr>\n",
              "    <tr>\n",
              "      <th>4</th>\n",
              "      <td>AFG</td>\n",
              "      <td>Asia</td>\n",
              "      <td>Afghanistan</td>\n",
              "      <td>2020-02-28</td>\n",
              "      <td>5.0</td>\n",
              "      <td>0.0</td>\n",
              "      <td>NaN</td>\n",
              "      <td>NaN</td>\n",
              "      <td>NaN</td>\n",
              "      <td>NaN</td>\n",
              "      <td>...</td>\n",
              "      <td>NaN</td>\n",
              "      <td>NaN</td>\n",
              "      <td>37.746</td>\n",
              "      <td>0.5</td>\n",
              "      <td>64.83</td>\n",
              "      <td>0.511</td>\n",
              "      <td>NaN</td>\n",
              "      <td>NaN</td>\n",
              "      <td>NaN</td>\n",
              "      <td>NaN</td>\n",
              "    </tr>\n",
              "  </tbody>\n",
              "</table>\n",
              "<p>5 rows × 67 columns</p>\n",
              "</div>\n",
              "      <button class=\"colab-df-convert\" onclick=\"convertToInteractive('df-73c370c1-9e7d-461e-ab2a-a7e1122d5b63')\"\n",
              "              title=\"Convert this dataframe to an interactive table.\"\n",
              "              style=\"display:none;\">\n",
              "        \n",
              "  <svg xmlns=\"http://www.w3.org/2000/svg\" height=\"24px\"viewBox=\"0 0 24 24\"\n",
              "       width=\"24px\">\n",
              "    <path d=\"M0 0h24v24H0V0z\" fill=\"none\"/>\n",
              "    <path d=\"M18.56 5.44l.94 2.06.94-2.06 2.06-.94-2.06-.94-.94-2.06-.94 2.06-2.06.94zm-11 1L8.5 8.5l.94-2.06 2.06-.94-2.06-.94L8.5 2.5l-.94 2.06-2.06.94zm10 10l.94 2.06.94-2.06 2.06-.94-2.06-.94-.94-2.06-.94 2.06-2.06.94z\"/><path d=\"M17.41 7.96l-1.37-1.37c-.4-.4-.92-.59-1.43-.59-.52 0-1.04.2-1.43.59L10.3 9.45l-7.72 7.72c-.78.78-.78 2.05 0 2.83L4 21.41c.39.39.9.59 1.41.59.51 0 1.02-.2 1.41-.59l7.78-7.78 2.81-2.81c.8-.78.8-2.07 0-2.86zM5.41 20L4 18.59l7.72-7.72 1.47 1.35L5.41 20z\"/>\n",
              "  </svg>\n",
              "      </button>\n",
              "      \n",
              "  <style>\n",
              "    .colab-df-container {\n",
              "      display:flex;\n",
              "      flex-wrap:wrap;\n",
              "      gap: 12px;\n",
              "    }\n",
              "\n",
              "    .colab-df-convert {\n",
              "      background-color: #E8F0FE;\n",
              "      border: none;\n",
              "      border-radius: 50%;\n",
              "      cursor: pointer;\n",
              "      display: none;\n",
              "      fill: #1967D2;\n",
              "      height: 32px;\n",
              "      padding: 0 0 0 0;\n",
              "      width: 32px;\n",
              "    }\n",
              "\n",
              "    .colab-df-convert:hover {\n",
              "      background-color: #E2EBFA;\n",
              "      box-shadow: 0px 1px 2px rgba(60, 64, 67, 0.3), 0px 1px 3px 1px rgba(60, 64, 67, 0.15);\n",
              "      fill: #174EA6;\n",
              "    }\n",
              "\n",
              "    [theme=dark] .colab-df-convert {\n",
              "      background-color: #3B4455;\n",
              "      fill: #D2E3FC;\n",
              "    }\n",
              "\n",
              "    [theme=dark] .colab-df-convert:hover {\n",
              "      background-color: #434B5C;\n",
              "      box-shadow: 0px 1px 3px 1px rgba(0, 0, 0, 0.15);\n",
              "      filter: drop-shadow(0px 1px 2px rgba(0, 0, 0, 0.3));\n",
              "      fill: #FFFFFF;\n",
              "    }\n",
              "  </style>\n",
              "\n",
              "      <script>\n",
              "        const buttonEl =\n",
              "          document.querySelector('#df-73c370c1-9e7d-461e-ab2a-a7e1122d5b63 button.colab-df-convert');\n",
              "        buttonEl.style.display =\n",
              "          google.colab.kernel.accessAllowed ? 'block' : 'none';\n",
              "\n",
              "        async function convertToInteractive(key) {\n",
              "          const element = document.querySelector('#df-73c370c1-9e7d-461e-ab2a-a7e1122d5b63');\n",
              "          const dataTable =\n",
              "            await google.colab.kernel.invokeFunction('convertToInteractive',\n",
              "                                                     [key], {});\n",
              "          if (!dataTable) return;\n",
              "\n",
              "          const docLinkHtml = 'Like what you see? Visit the ' +\n",
              "            '<a target=\"_blank\" href=https://colab.research.google.com/notebooks/data_table.ipynb>data table notebook</a>'\n",
              "            + ' to learn more about interactive tables.';\n",
              "          element.innerHTML = '';\n",
              "          dataTable['output_type'] = 'display_data';\n",
              "          await google.colab.output.renderOutput(dataTable, element);\n",
              "          const docLink = document.createElement('div');\n",
              "          docLink.innerHTML = docLinkHtml;\n",
              "          element.appendChild(docLink);\n",
              "        }\n",
              "      </script>\n",
              "    </div>\n",
              "  </div>\n",
              "  "
            ]
          },
          "metadata": {},
          "execution_count": 4
        }
      ]
    },
    {
      "cell_type": "code",
      "source": [
        "# visualizando tamanho do dataframe\n",
        "print(f'Tamanho do Dataframe:\\nLinhas: {df.shape[0]}\\nColunas: {df.shape[1]}')"
      ],
      "metadata": {
        "colab": {
          "base_uri": "https://localhost:8080/"
        },
        "id": "DAtyPqorrMWS",
        "outputId": "a36aab50-d509-4dab-d3ce-116518d1c8dd"
      },
      "execution_count": null,
      "outputs": [
        {
          "output_type": "stream",
          "name": "stdout",
          "text": [
            "Tamanho do Dataframe:\n",
            "Linhas: 221911\n",
            "Colunas: 67\n"
          ]
        }
      ]
    },
    {
      "cell_type": "code",
      "source": [
        "# extraindo nomes das colunas\n",
        "print(df.columns)"
      ],
      "metadata": {
        "colab": {
          "base_uri": "https://localhost:8080/"
        },
        "id": "q_AJNoarsQmx",
        "outputId": "782ec8b4-2811-4f2e-d4f7-4460a6fbe154"
      },
      "execution_count": null,
      "outputs": [
        {
          "output_type": "stream",
          "name": "stdout",
          "text": [
            "Index(['iso_code', 'continent', 'location', 'date', 'total_cases', 'new_cases',\n",
            "       'new_cases_smoothed', 'total_deaths', 'new_deaths',\n",
            "       'new_deaths_smoothed', 'total_cases_per_million',\n",
            "       'new_cases_per_million', 'new_cases_smoothed_per_million',\n",
            "       'total_deaths_per_million', 'new_deaths_per_million',\n",
            "       'new_deaths_smoothed_per_million', 'reproduction_rate', 'icu_patients',\n",
            "       'icu_patients_per_million', 'hosp_patients',\n",
            "       'hosp_patients_per_million', 'weekly_icu_admissions',\n",
            "       'weekly_icu_admissions_per_million', 'weekly_hosp_admissions',\n",
            "       'weekly_hosp_admissions_per_million', 'total_tests', 'new_tests',\n",
            "       'total_tests_per_thousand', 'new_tests_per_thousand',\n",
            "       'new_tests_smoothed', 'new_tests_smoothed_per_thousand',\n",
            "       'positive_rate', 'tests_per_case', 'tests_units', 'total_vaccinations',\n",
            "       'people_vaccinated', 'people_fully_vaccinated', 'total_boosters',\n",
            "       'new_vaccinations', 'new_vaccinations_smoothed',\n",
            "       'total_vaccinations_per_hundred', 'people_vaccinated_per_hundred',\n",
            "       'people_fully_vaccinated_per_hundred', 'total_boosters_per_hundred',\n",
            "       'new_vaccinations_smoothed_per_million',\n",
            "       'new_people_vaccinated_smoothed',\n",
            "       'new_people_vaccinated_smoothed_per_hundred', 'stringency_index',\n",
            "       'population', 'population_density', 'median_age', 'aged_65_older',\n",
            "       'aged_70_older', 'gdp_per_capita', 'extreme_poverty',\n",
            "       'cardiovasc_death_rate', 'diabetes_prevalence', 'female_smokers',\n",
            "       'male_smokers', 'handwashing_facilities', 'hospital_beds_per_thousand',\n",
            "       'life_expectancy', 'human_development_index',\n",
            "       'excess_mortality_cumulative_absolute', 'excess_mortality_cumulative',\n",
            "       'excess_mortality', 'excess_mortality_cumulative_per_million'],\n",
            "      dtype='object')\n"
          ]
        }
      ]
    },
    {
      "cell_type": "code",
      "source": [
        "# visualizando o tipo das variáveis\n",
        "df.dtypes"
      ],
      "metadata": {
        "colab": {
          "base_uri": "https://localhost:8080/"
        },
        "id": "I-oc4x0Jrayk",
        "outputId": "2012fb05-3229-4862-ae1a-176b013ae58a"
      },
      "execution_count": null,
      "outputs": [
        {
          "output_type": "execute_result",
          "data": {
            "text/plain": [
              "iso_code                                    object\n",
              "continent                                   object\n",
              "location                                    object\n",
              "date                                        object\n",
              "total_cases                                float64\n",
              "                                            ...   \n",
              "human_development_index                    float64\n",
              "excess_mortality_cumulative_absolute       float64\n",
              "excess_mortality_cumulative                float64\n",
              "excess_mortality                           float64\n",
              "excess_mortality_cumulative_per_million    float64\n",
              "Length: 67, dtype: object"
            ]
          },
          "metadata": {},
          "execution_count": 7
        }
      ]
    },
    {
      "cell_type": "markdown",
      "source": [
        "## Identificando Valores Ausentes\n",
        "\n",
        "Dados ausentes são sempre um problema em cenários da vida real. Áreas como aprendizado de máquina e mineração de dados enfrentam sérios problemas na precisão de suas previsões de modelo devido à baixa qualidade dos dados causada por valores ausentes. Nessas áreas, o tratamento de valor faltante é o principal ponto de foco para tornar seus modelos mais precisos e válidos.\n",
        "\n",
        "Vamos identificar os valores ausentes em nosso Dataframe e tratá-los da melhor maneira possível."
      ],
      "metadata": {
        "id": "vS1G757JYEO-"
      }
    },
    {
      "cell_type": "code",
      "source": [
        "# identificando quantidade de valores ausentes por coluna\n",
        "df.isnull().sum()"
      ],
      "metadata": {
        "colab": {
          "base_uri": "https://localhost:8080/"
        },
        "id": "y4gKq6IdY2yW",
        "outputId": "f53463da-30e9-4315-f396-3f54b9541079"
      },
      "execution_count": null,
      "outputs": [
        {
          "output_type": "execute_result",
          "data": {
            "text/plain": [
              "iso_code                                        0\n",
              "continent                                   12751\n",
              "location                                        0\n",
              "date                                            0\n",
              "total_cases                                  9148\n",
              "                                            ...  \n",
              "human_development_index                     44502\n",
              "excess_mortality_cumulative_absolute       214451\n",
              "excess_mortality_cumulative                214451\n",
              "excess_mortality                           214404\n",
              "excess_mortality_cumulative_per_million    214451\n",
              "Length: 67, dtype: int64"
            ]
          },
          "metadata": {},
          "execution_count": 8
        }
      ]
    },
    {
      "cell_type": "code",
      "source": [
        "# identificando porcentagem de valores ausentes por coluna\n",
        "(df.isnull().sum() / df.shape[0]).sort_values(ascending=False)"
      ],
      "metadata": {
        "colab": {
          "base_uri": "https://localhost:8080/"
        },
        "id": "mk4_YTxNZ2HJ",
        "outputId": "35e78d2e-2a99-4541-fbec-9513a5da5ae5"
      },
      "execution_count": null,
      "outputs": [
        {
          "output_type": "execute_result",
          "data": {
            "text/plain": [
              "weekly_icu_admissions_per_million          0.967104\n",
              "weekly_icu_admissions                      0.967104\n",
              "excess_mortality_cumulative_per_million    0.966383\n",
              "excess_mortality_cumulative                0.966383\n",
              "excess_mortality_cumulative_absolute       0.966383\n",
              "                                             ...   \n",
              "total_cases                                0.041224\n",
              "population                                 0.005813\n",
              "date                                       0.000000\n",
              "location                                   0.000000\n",
              "iso_code                                   0.000000\n",
              "Length: 67, dtype: float64"
            ]
          },
          "metadata": {},
          "execution_count": 9
        }
      ]
    },
    {
      "cell_type": "code",
      "source": [
        "# filtrando as colunas com mais de 50% de valores ausentes\n",
        "(df.isnull().sum() / df.shape[0]).loc[lambda x : x > 0.50].sort_values(ascending=False)"
      ],
      "metadata": {
        "colab": {
          "base_uri": "https://localhost:8080/"
        },
        "id": "mJNTfXp8h62P",
        "outputId": "d59a4bcf-413d-4a8b-967b-df8d39f66e6a"
      },
      "execution_count": null,
      "outputs": [
        {
          "output_type": "execute_result",
          "data": {
            "text/plain": [
              "weekly_icu_admissions                      0.967104\n",
              "weekly_icu_admissions_per_million          0.967104\n",
              "excess_mortality_cumulative_per_million    0.966383\n",
              "excess_mortality_cumulative                0.966383\n",
              "excess_mortality_cumulative_absolute       0.966383\n",
              "excess_mortality                           0.966171\n",
              "weekly_hosp_admissions                     0.935686\n",
              "weekly_hosp_admissions_per_million         0.935686\n",
              "icu_patients_per_million                   0.872805\n",
              "icu_patients                               0.872805\n",
              "hosp_patients                              0.860322\n",
              "hosp_patients_per_million                  0.860322\n",
              "total_boosters                             0.849967\n",
              "total_boosters_per_hundred                 0.849967\n",
              "new_vaccinations                           0.769813\n",
              "people_fully_vaccinated_per_hundred        0.744808\n",
              "people_fully_vaccinated                    0.744808\n",
              "people_vaccinated                          0.732325\n",
              "people_vaccinated_per_hundred              0.732325\n",
              "total_vaccinations                         0.720090\n",
              "total_vaccinations_per_hundred             0.720090\n",
              "new_tests                                  0.660211\n",
              "new_tests_per_thousand                     0.660211\n",
              "total_tests                                0.642257\n",
              "total_tests_per_thousand                   0.642257\n",
              "handwashing_facilities                     0.596532\n",
              "tests_per_case                             0.574839\n",
              "positive_rate                              0.567723\n",
              "new_tests_smoothed_per_thousand            0.531501\n",
              "new_tests_smoothed                         0.531501\n",
              "tests_units                                0.518780\n",
              "dtype: float64"
            ]
          },
          "metadata": {},
          "execution_count": 10
        }
      ]
    },
    {
      "cell_type": "code",
      "source": [
        "# filtrando as colunas com menos de 50% de valores ausentes\n",
        "(df.isnull().sum() / df.shape[0]).loc[lambda x : x < 0.50].sort_values(ascending=False)"
      ],
      "metadata": {
        "colab": {
          "base_uri": "https://localhost:8080/"
        },
        "id": "vrNrrmTZpFns",
        "outputId": "0e6b8988-f955-4ca2-848b-f3d0691d1332"
      },
      "execution_count": null,
      "outputs": [
        {
          "output_type": "execute_result",
          "data": {
            "text/plain": [
              "extreme_poverty                               0.466381\n",
              "new_people_vaccinated_smoothed_per_hundred    0.423408\n",
              "new_people_vaccinated_smoothed                0.423408\n",
              "new_vaccinations_smoothed_per_million         0.420723\n",
              "new_vaccinations_smoothed                     0.420723\n",
              "male_smokers                                  0.388079\n",
              "female_smokers                                0.379585\n",
              "hospital_beds_per_thousand                    0.270559\n",
              "reproduction_rate                             0.248721\n",
              "stringency_index                              0.245540\n",
              "human_development_index                       0.200540\n",
              "aged_65_older                                 0.186764\n",
              "aged_70_older                                 0.182388\n",
              "gdp_per_capita                                0.181010\n",
              "cardiovasc_death_rate                         0.180275\n",
              "median_age                                    0.178089\n",
              "diabetes_prevalence                           0.138272\n",
              "new_deaths_smoothed_per_million               0.137181\n",
              "new_deaths_smoothed                           0.132878\n",
              "new_deaths_per_million                        0.131886\n",
              "total_deaths_per_million                      0.131747\n",
              "new_deaths                                    0.127560\n",
              "total_deaths                                  0.127420\n",
              "population_density                            0.111833\n",
              "life_expectancy                               0.065612\n",
              "continent                                     0.057460\n",
              "new_cases_smoothed_per_million                0.052012\n",
              "new_cases_smoothed                            0.047650\n",
              "new_cases_per_million                         0.046645\n",
              "total_cases_per_million                       0.045608\n",
              "new_cases                                     0.042260\n",
              "total_cases                                   0.041224\n",
              "population                                    0.005813\n",
              "date                                          0.000000\n",
              "location                                      0.000000\n",
              "iso_code                                      0.000000\n",
              "dtype: float64"
            ]
          },
          "metadata": {},
          "execution_count": 11
        }
      ]
    },
    {
      "cell_type": "code",
      "source": [
        "# identificando os intervalos que iremos remover do df e os intervalos que vamos tratar os dados\n",
        "remover = list((df.isnull().sum() / df.shape[0]).loc[lambda x : x > 0.50].index)\n",
        "tratar = list((df.isnull().sum() / df.shape[0]).loc[lambda x : x < 0.50].index)"
      ],
      "metadata": {
        "id": "VfEH-pM0xeUf"
      },
      "execution_count": 66,
      "outputs": []
    },
    {
      "cell_type": "code",
      "source": [
        "# removendo as colunas com mais de 50% de valores ausentes\n",
        "df_clean = df.drop(columns=remover)"
      ],
      "metadata": {
        "id": "5s9sRyOgCCuv"
      },
      "execution_count": 39,
      "outputs": []
    },
    {
      "cell_type": "code",
      "source": [
        "df[tratar[0]]"
      ],
      "metadata": {
        "colab": {
          "base_uri": "https://localhost:8080/"
        },
        "id": "tCluGvHADv-X",
        "outputId": "d4ab3a8a-02d0-4418-deaf-a05b0ca97d04"
      },
      "execution_count": 67,
      "outputs": [
        {
          "output_type": "execute_result",
          "data": {
            "text/plain": [
              "0         AFG\n",
              "1         AFG\n",
              "2         AFG\n",
              "3         AFG\n",
              "4         AFG\n",
              "         ... \n",
              "221906    ZWE\n",
              "221907    ZWE\n",
              "221908    ZWE\n",
              "221909    ZWE\n",
              "221910    ZWE\n",
              "Name: iso_code, Length: 221911, dtype: object"
            ]
          },
          "metadata": {},
          "execution_count": 67
        }
      ]
    },
    {
      "cell_type": "markdown",
      "metadata": {
        "id": "qb5By2nIMS6m"
      },
      "source": [
        "## Análise Exploratória dos Dados\n",
        "\n",
        "*Crie uma breve contextualização sobre o que será feito na fase de Análise Exploratória de Dados...*\n",
        "\n",
        "\n",
        "* *Identifique a porcentagem de valores ausentes das colunas*\n",
        "    * `df.isnull().sum() / df.shape[0]` ou\n",
        "    * `(df.isnull().sum() / df.shape[0]).sort_values(ascending=False)` *para ordem decrescente.*\n",
        "* *Transforme a coluna `date` no formato `datetime`*\n",
        "    * `df.date = pd.to_datetime(df.date)`\n",
        "* *Ver para a data mais atual, quais os países que têm mais casos e mortes. Veja o exemplo:*\n",
        "    * `df.loc[df.date == '2020-06-14'].sort_values(by=\"total_cases\", ascending=False)`\n",
        "    * `df.loc[df.date == '2020-06-14'].sort_values(by=\"total_deaths\", ascending=False)`\n",
        "* Plotar um gráfico de barras para os 5 países com mais mortes\n",
        "    * `df.loc[df.date == '2020-06-14', ['location', 'total_deaths']].sort_values(by=\"total_deaths\", ascending=False)[1:6]`\n",
        "    * `ax.bar('location', 'total_deaths', data=top5_total_deaths)`\n",
        "* Plotar um gráfico de linhas para ver a evolução do total de casos de COVID-19 no mundo.\n",
        "    * `df.loc[df.location == \"World\", \"total_deaths\"].reset_index(drop=True).plot()`\n",
        "* [OPCIONAL] Plotar um gráfico de dispersão considerando `gdp_per_capita` (ou seja, o PIB dos países) pelo número total de mortos. Pegue a data mais recente apenas.\n",
        "    * Lembre-se que não é nada conclusivo, pois envolve fatores como proporcão de testes, etc.\n"
      ]
    },
    {
      "cell_type": "markdown",
      "metadata": {
        "id": "__TfiNtiPPA6"
      },
      "source": [
        "Vamos......"
      ]
    },
    {
      "cell_type": "code",
      "metadata": {
        "id": "gO1fv3D1PS4k"
      },
      "source": [],
      "execution_count": null,
      "outputs": []
    },
    {
      "cell_type": "markdown",
      "metadata": {
        "id": "SViA5VZ7DYLA"
      },
      "source": [
        "### Análise Exploratória para o Brasil\n",
        "\n",
        "* Criar uma cópia do DataFrame apenas com o Brasil\n",
        "    * `df_brasil = df.loc[df.location == \"Brazil\"].copy()`\n",
        "* Identificar quando foi registrada a primeira morte no Brasil\n",
        "* Identificar quantos dias demorou para registrarmos a primeira morte, considerando o primeiro caso de COVID-19 registrado.\n",
        "* Plotar gráficos de linha em escalas linear e logarítmica para os casos totais e mortes totais."
      ]
    },
    {
      "cell_type": "code",
      "metadata": {
        "id": "UDQA502_hAwI"
      },
      "source": [],
      "execution_count": null,
      "outputs": []
    },
    {
      "cell_type": "markdown",
      "metadata": {
        "id": "LCsiXvM3BcsO"
      },
      "source": [
        "## Conclusão\n",
        "\n",
        "*Escreva suas conclusões e análises sobre os dados relativos à COVID-19...*"
      ]
    }
  ]
}